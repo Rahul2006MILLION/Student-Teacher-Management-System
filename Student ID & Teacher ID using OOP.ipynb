{
 "cells": [
  {
   "cell_type": "code",
   "execution_count": 14,
   "id": "6a48076b-0246-4673-ba03-6938e2c439f2",
   "metadata": {},
   "outputs": [
    {
     "name": "stdin",
     "output_type": "stream",
     "text": [
      "Enter 1 to ADD Student or 2 to add Teacher:  1\n",
      "Enter the Name:  Mark Zuckerburg\n",
      "Enter Age:  19\n",
      "Enter Roll Number:  39\n",
      "Enter Marks1:  98\n",
      "Enter Marks2:  99\n",
      "Enter Marks3:  82\n"
     ]
    },
    {
     "name": "stdout",
     "output_type": "stream",
     "text": [
      "---Student Info---\n",
      "Name: Mark Zuckerburg\n",
      "Age: 19\n",
      "RollNo. 39\n",
      "Marks 1: 98\n",
      "Marks 2: 99\n",
      "Marks 3: 82\n",
      "Result: 93.00\n",
      "DISTINCTION (A)\n"
     ]
    }
   ],
   "source": [
    "class Person():\n",
    "    def __init__(self,name,age):\n",
    "        self.name=name\n",
    "        self.age=age\n",
    "    def display(self):\n",
    "        print(f\"Name: {self.name} and Age: {self.age}\")\n",
    "\n",
    "class Student(Person):\n",
    "    def __init__(self,name,age,rollno,m1,m2,m3):\n",
    "        Person.__init__(self,name,age)\n",
    "        self.rollno=rollno\n",
    "        self.marks1=m1\n",
    "        self.marks2=m2\n",
    "        self.mark3=m3\n",
    "    def display(self):\n",
    "        print(\"---Student Info---\")\n",
    "        result=(self.marks1+self.marks2+self.mark3)/3\n",
    "        print(f\"Name: {self.name}\\nAge: {self.age}\\nRollNo. {self.rollno}\\nMarks 1: {self.marks1}\\nMarks 2: {self.marks2}\\nMarks 3: {self.mark3}\")\n",
    "        print(f\"Result: {result:2.2f}\")\n",
    "        if result>=90:\n",
    "            print(\"DISTINCTION (A)\")\n",
    "        elif result>=75 and result<90:\n",
    "            print(\"FIRST CLASS (B)\")\n",
    "        elif result>=60 and result<75:\n",
    "            print(\"SECOND CLASS (C)\")\n",
    "        elif result>=40 and result<60:\n",
    "            print(\"JUST PASSED (D)\")\n",
    "        elif result<40:\n",
    "            print(\"YOU ARE FAILED\")\n",
    "class Teacher(Person):\n",
    "    def __init__(self,name,age,employee_id,subject):\n",
    "        Person.__init__(self,name,age)\n",
    "        self.employee_id=employee_id\n",
    "        self.subject=subject\n",
    "    def display(self):\n",
    "        print(\"---Employee ID---\")\n",
    "        print(f\"Name: {self.name}\\nAge: {self.age}\\nEmployee ID: {self.employee_id}\\nSubject: {self.subject}\")\n",
    "choice=''\n",
    "while choice!=1 and choice!=2:\n",
    "    choice=int(input(\"Enter 1 to ADD Student or 2 to add Teacher: \"))\n",
    "    if choice==1:\n",
    "        name=input(\"Enter the Name: \")\n",
    "        age=int(input('Enter Age: '))\n",
    "        rollno=int(input('Enter Roll Number: '))\n",
    "        m1=int(input(\"Enter Marks1: \"))\n",
    "        m2=int(input(\"Enter Marks2: \"))\n",
    "        m3=int(input(\"Enter Marks3: \"))\n",
    "        s=Student(name,age,rollno,m1,m2,m3)\n",
    "        s.display()\n",
    "    elif choice==2:\n",
    "        name=input(\"Enter the Name: \")\n",
    "        age=int(input('Enter Age: '))\n",
    "        employee_id=int(input(\"Enter Employee ID: \"))\n",
    "        subject=input(\"Enter your Teaching Subject: \")\n",
    "        t=Teacher(name,age,employee_id,subject)\n",
    "        t.display()\n",
    "    else:\n",
    "        print(\"Invalid Input\")"
   ]
  },
  {
   "cell_type": "code",
   "execution_count": null,
   "id": "61f4b309-7861-476e-afe2-dfd87029d73a",
   "metadata": {},
   "outputs": [],
   "source": []
  }
 ],
 "metadata": {
  "kernelspec": {
   "display_name": "Python [conda env:base] *",
   "language": "python",
   "name": "conda-base-py"
  },
  "language_info": {
   "codemirror_mode": {
    "name": "ipython",
    "version": 3
   },
   "file_extension": ".py",
   "mimetype": "text/x-python",
   "name": "python",
   "nbconvert_exporter": "python",
   "pygments_lexer": "ipython3",
   "version": "3.13.5"
  }
 },
 "nbformat": 4,
 "nbformat_minor": 5
}
